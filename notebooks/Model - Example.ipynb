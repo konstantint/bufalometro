{
 "cells": [
  {
   "cell_type": "markdown",
   "metadata": {},
   "source": [
    "This notebook presents a simplistic example of training and exporting a text classifier suitable for use with Il Bufalometro."
   ]
  },
  {
   "cell_type": "markdown",
   "metadata": {},
   "source": [
    "# Prepare Data"
   ]
  },
  {
   "cell_type": "markdown",
   "metadata": {},
   "source": [
    "For this example we shall use a famous example `Reuters news` dataset and train a classifier to discriminate between agriculture-related and business-related news.\n",
    "\n",
    "The actual models used in Bufalometro were trained on actually relevant corpora, of course."
   ]
  },
  {
   "cell_type": "code",
   "execution_count": 1,
   "metadata": {},
   "outputs": [
    {
     "name": "stdout",
     "output_type": "stream",
     "text": [
      "[nltk_data] Downloading package reuters to /home/ubuntu/nltk_data...\n",
      "[nltk_data]   Package reuters is already up-to-date!\n"
     ]
    }
   ],
   "source": [
    "import nltk\n",
    "from nltk.corpus import reuters\n",
    "nltk.download('reuters')\n",
    "\n",
    "positives = [reuters.raw(d) for d in reuters.fileids([\"crude\", \"barley\", \"coconut\", \"corn\", \"grain\"])]\n",
    "negatives = [reuters.raw(d) for d in reuters.fileids(\"acq\")]"
   ]
  },
  {
   "cell_type": "markdown",
   "metadata": {},
   "source": [
    "We omit the exploratory analysis step, as it is outside the scope of this notebook. Just note that the Reuters articles are rather clean, in general, and the dataset we chose is reasonably balanced:"
   ]
  },
  {
   "cell_type": "code",
   "execution_count": 2,
   "metadata": {},
   "outputs": [
    {
     "data": {
      "text/plain": [
       "(1167, 2369)"
      ]
     },
     "execution_count": 2,
     "metadata": {},
     "output_type": "execute_result"
    }
   ],
   "source": [
    "len(positives), len(negatives)"
   ]
  },
  {
   "cell_type": "code",
   "execution_count": 3,
   "metadata": {},
   "outputs": [
    {
     "data": {
      "image/png": "[encoded data removed]",
      "text/plain": [
       "<matplotlib.figure.Figure at 0x7f39c7ce59e8>"
      ]
     },
     "metadata": {},
     "output_type": "display_data"
    }
   ],
   "source": [
    "%matplotlib inline\n",
    "import seaborn as sns\n",
    "import matplotlib.pyplot as plt\n",
    "import numpy as np\n",
    "sns.set(font=\"serif\")\n",
    "sns.distplot([len(t) for t in positives], label=\"Positives\")\n",
    "sns.distplot([len(t) for t in negatives], label=\"Negatives\");\n",
    "plt.legend();"
   ]
  },
  {
   "cell_type": "markdown",
   "metadata": {},
   "source": [
    "Let us collect all the articles into a single list, and create an indicator variable `y`, denoting which articles are the positives."
   ]
  },
  {
   "cell_type": "code",
   "execution_count": 4,
   "metadata": {
    "collapsed": true
   },
   "outputs": [],
   "source": [
    "import numpy as np\n",
    "X = positives + negatives\n",
    "y = np.array([1]*len(positives) + [0]*len(negatives))"
   ]
  },
  {
   "cell_type": "markdown",
   "metadata": {},
   "source": [
    "# Training the Model"
   ]
  },
  {
   "cell_type": "markdown",
   "metadata": {},
   "source": [
    "At this point we would experiment with various text tokenization, preprocessing and classification approaches. \n",
    "In Bufalometro we ended up using a pipeline of a `CountVectorizer` followed by a `MultinomialNB` classifier because it is efficient, works sufficiently well, allows easy visualization of the importance of every word, and well, you don't have time for more at a weekend hackathon."
   ]
  },
  {
   "cell_type": "markdown",
   "metadata": {},
   "source": [
    "We packed our model into a class which offers an additional `explain` method for producing the word importances."
   ]
  },
  {
   "cell_type": "code",
   "execution_count": 5,
   "metadata": {
    "collapsed": true
   },
   "outputs": [],
   "source": [
    "from bufalometro.models.nlp import ExplainingWordBasedClassifier\n",
    "m = ExplainingWordBasedClassifier()"
   ]
  },
  {
   "cell_type": "markdown",
   "metadata": {},
   "source": [
    "The model's accuracy is nearly perfect:"
   ]
  },
  {
   "cell_type": "code",
   "execution_count": 6,
   "metadata": {},
   "outputs": [
    {
     "data": {
      "text/plain": [
       "array([ 0.98305085,  0.98446328,  0.98727016,  0.97736917,  0.98725212])"
      ]
     },
     "execution_count": 6,
     "metadata": {},
     "output_type": "execute_result"
    }
   ],
   "source": [
    "from sklearn.model_selection import cross_val_score\n",
    "cross_val_score(m, X, y, scoring='accuracy', cv=5, n_jobs=-1)"
   ]
  },
  {
   "cell_type": "markdown",
   "metadata": {},
   "source": [
    "Let us train it on the full set and examine a couple of explanations it produces:"
   ]
  },
  {
   "cell_type": "code",
   "execution_count": 7,
   "metadata": {},
   "outputs": [
    {
     "data": {
      "text/plain": [
       "ExplainingWordBasedClassifier(classifier=None, n_levels=4, vectorizer=None)"
      ]
     },
     "execution_count": 7,
     "metadata": {},
     "output_type": "execute_result"
    }
   ],
   "source": [
    "m.fit(X, y)"
   ]
  },
  {
   "cell_type": "code",
   "execution_count": 8,
   "metadata": {},
   "outputs": [
    {
     "data": {
      "text/html": [
       "\n",
       "<style>\n",
       ".neg-3 { background-color: #f33; }\n",
       ".neg-2 { background-color: #f77; }\n",
       ".neg-1 { background-color: #faa; }\n",
       ".pos-3 { background-color: #3f3; }\n",
       ".pos-2 { background-color: #7f7; }\n",
       ".pos-1 { background-color: #afa; }\n",
       "</style>\n"
      ],
      "text/plain": [
       "<IPython.core.display.HTML object>"
      ]
     },
     "execution_count": 8,
     "metadata": {},
     "output_type": "execute_result"
    }
   ],
   "source": [
    "from IPython.display import HTML\n",
    "HTML(\"\"\"\n",
    "<style>\n",
    ".neg-3 { background-color: #f33; }\n",
    ".neg-2 { background-color: #f77; }\n",
    ".neg-1 { background-color: #faa; }\n",
    ".pos-3 { background-color: #3f3; }\n",
    ".pos-2 { background-color: #7f7; }\n",
    ".pos-1 { background-color: #afa; }\n",
    "</style>\n",
    "\"\"\")"
   ]
  },
  {
   "cell_type": "code",
   "execution_count": 9,
   "metadata": {},
   "outputs": [
    {
     "data": {
      "text/html": [
       "<pre><span class=\"pos-3\" title=\"china (2.439)\">CHINA</span> <span class=\"pos-1\" title=\"daily (1.058)\">DAILY</span> <span class=\"neg-0\" title=\"says (-0.230)\">SAYS</span> VERMIN EAT 7-<span class=\"pos-0\" title=\"12 (0.201)\">12</span> <span class=\"neg-0\" title=\"pct (-0.435)\">PCT</span> <span class=\"pos-3\" title=\"grain (5.058)\">GRAIN</span> <span class=\"pos-3\" title=\"stocks (2.534)\">STOCKS</span>\n",
       "  A <span class=\"pos-3\" title=\"survey (2.903)\">survey</span> of <span class=\"pos-1\" title=\"19 (0.816)\">19</span> <span class=\"pos-3\" title=\"provinces (3.191)\">provinces</span> and <span class=\"pos-0\" title=\"seven (0.296)\">seven</span> <span class=\"neg-0\" title=\"cities (-0.093)\">cities</span>\n",
       "  <span class=\"pos-2\" title=\"showed (1.432)\">showed</span> vermin consume <span class=\"pos-1\" title=\"between (0.499)\">between</span> <span class=\"pos-0\" title=\"seven (0.296)\">seven</span> and <span class=\"pos-0\" title=\"12 (0.201)\">12</span> <span class=\"neg-0\" title=\"pct (-0.435)\">pct</span> of <span class=\"pos-3\" title=\"china (2.439)\">China</span>'s <span class=\"pos-3\" title=\"grain (5.058)\">grain</span>\n",
       "  <span class=\"pos-3\" title=\"stocks (2.534)\">stocks</span>, the <span class=\"pos-3\" title=\"china (2.439)\">China</span> <span class=\"pos-1\" title=\"daily (1.058)\">Daily</span> said.\n",
       "      It <span class=\"neg-0\" title=\"also (-0.339)\">also</span> said <span class=\"pos-0\" title=\"that (0.034)\">that</span> <span class=\"neg-2\" title=\"each (-1.459)\">each</span> <span class=\"pos-1\" title=\"year (0.852)\">year</span> 1.<span class=\"pos-0\" title=\"575 (0.418)\">575</span> <span class=\"pos-0\" title=\"mln (0.108)\">mln</span> <span class=\"pos-3\" title=\"tonnes (5.251)\">tonnes</span>, <span class=\"neg-1\" title=\"or (-0.821)\">or</span> <span class=\"pos-0\" title=\"25 (0.339)\">25</span> <span class=\"neg-0\" title=\"pct (-0.435)\">pct</span>, of\n",
       "  <span class=\"pos-3\" title=\"china (2.439)\">China</span>'s fruit <span class=\"pos-3\" title=\"output (3.586)\">output</span> <span class=\"pos-0\" title=\"are (0.323)\">are</span> <span class=\"pos-1\" title=\"left (0.652)\">left</span> to rot, and 2.1 <span class=\"pos-0\" title=\"mln (0.108)\">mln</span> <span class=\"pos-3\" title=\"tonnes (5.251)\">tonnes</span>, <span class=\"neg-1\" title=\"or (-0.821)\">or</span> <span class=\"pos-0\" title=\"up (0.414)\">up</span>\n",
       "  to <span class=\"pos-0\" title=\"30 (0.132)\">30</span> <span class=\"neg-0\" title=\"pct (-0.435)\">pct</span>, of its vegetables. The <span class=\"pos-0\" title=\"paper (0.317)\">paper</span> <span class=\"pos-3\" title=\"blamed (2.141)\">blamed</span> the <span class=\"neg-3\" title=\"waste (-2.093)\">waste</span> <span class=\"pos-0\" title=\"on (0.075)\">on</span>\n",
       "  <span class=\"neg-2\" title=\"inadequate (-1.117)\">inadequate</span> <span class=\"pos-2\" title=\"storage (1.188)\">storage</span> and <span class=\"pos-1\" title=\"bad (1.042)\">bad</span> preservation <span class=\"pos-2\" title=\"methods (1.293)\">methods</span>.\n",
       "      It said the <span class=\"pos-1\" title=\"government (0.818)\">government</span> <span class=\"neg-0\" title=\"had (-0.274)\">had</span> <span class=\"neg-0\" title=\"launched (-0.459)\">launched</span> a <span class=\"neg-0\" title=\"national (-0.279)\">national</span> <span class=\"pos-0\" title=\"programme (0.446)\">programme</span> to\n",
       "  <span class=\"pos-0\" title=\"reduce (0.086)\">reduce</span> <span class=\"neg-3\" title=\"waste (-2.093)\">waste</span>, <span class=\"neg-1\" title=\"calling (-0.652)\">calling</span> for <span class=\"pos-1\" title=\"improved (0.888)\">improved</span> <span class=\"neg-2\" title=\"technology (-1.794)\">technology</span> in <span class=\"pos-2\" title=\"storage (1.188)\">storage</span> and\n",
       "  preservation, and <span class=\"pos-1\" title=\"greater (0.633)\">greater</span> <span class=\"pos-3\" title=\"production (2.534)\">production</span> of additives. The <span class=\"pos-0\" title=\"paper (0.317)\">paper</span>\n",
       "  <span class=\"pos-0\" title=\"gave (0.466)\">gave</span> <span class=\"pos-0\" title=\"no (0.037)\">no</span> <span class=\"neg-0\" title=\"further (-0.171)\">further</span> <span class=\"neg-1\" title=\"details (-0.616)\">details</span>.\n",
       "  \n",
       "\n",
       "</pre>"
      ],
      "text/plain": [
       "<IPython.core.display.HTML object>"
      ]
     },
     "execution_count": 9,
     "metadata": {},
     "output_type": "execute_result"
    }
   ],
   "source": [
    "from bufalometro.models.markup import markup\n",
    "HTML('<pre>' + markup(X[0], m.explain(X[0])) + '</pre>')"
   ]
  },
  {
   "cell_type": "code",
   "execution_count": 10,
   "metadata": {},
   "outputs": [
    {
     "name": "stdout",
     "output_type": "stream",
     "text": [
      "Probability of a positive class: 1.000000\n"
     ]
    }
   ],
   "source": [
    "print(\"Probability of a positive class: %0.6f\" % m.predict_proba([X[0]])[0,1])"
   ]
  },
  {
   "cell_type": "code",
   "execution_count": 11,
   "metadata": {},
   "outputs": [
    {
     "data": {
      "text/html": [
       "<pre><span class=\"neg-3\" title=\"kodak (-3.024)\">KODAK</span> &lt;<span class=\"neg-2\" title=\"ek (-1.751)\">EK</span>> <span class=\"neg-2\" title=\"buys (-1.915)\">BUYS</span> <span class=\"neg-3\" title=\"stake (-3.768)\">STAKE</span> IN <span class=\"neg-3\" title=\"biotechnology (-2.444)\">BIOTECHNOLOGY</span> <span class=\"neg-2\" title=\"company (-1.762)\">COMPANY</span>\n",
       "  <span class=\"neg-3\" title=\"eastman (-2.370)\">Eastman</span> <span class=\"neg-3\" title=\"kodak (-3.024)\">Kodak</span> <span class=\"neg-2\" title=\"co (-1.355)\">Co</span> said it <span class=\"neg-1\" title=\"has (-0.683)\">has</span>\n",
       "  <span class=\"neg-1\" title=\"reached (-0.746)\">reached</span> <span class=\"neg-0\" title=\"an (-0.240)\">an</span> <span class=\"neg-1\" title=\"agreement (-0.907)\">agreement</span> to <span class=\"neg-3\" title=\"acquire (-3.628)\">acquire</span> <span class=\"neg-0\" title=\"new (-0.342)\">new</span> <span class=\"neg-3\" title=\"stock (-2.970)\">stock</span> <span class=\"neg-1\" title=\"representing (-0.786)\">representing</span> a <span class=\"pos-1\" title=\"16 (0.728)\">16</span> <span class=\"neg-0\" title=\"pct (-0.435)\">pct</span>\n",
       "  <span class=\"neg-2\" title=\"interest (-1.143)\">interest</span> in <span class=\"neg-2\" title=\"industrial (-1.207)\">industrial</span> <span class=\"neg-3\" title=\"biotechnology (-2.444)\">biotechnology</span> <span class=\"neg-2\" title=\"company (-1.762)\">company</span> &lt;Genencor <span class=\"neg-3\" title=\"inc (-2.600)\">Inc</span>> for\n",
       "  <span class=\"neg-3\" title=\"undisclosed (-3.692)\">undisclosed</span> <span class=\"neg-3\" title=\"terms (-2.056)\">terms</span>.\n",
       "      <span class=\"neg-0\" title=\"other (-0.286)\">Other</span> Genencor <span class=\"neg-3\" title=\"shareholders (-3.337)\">shareholders</span> <span class=\"neg-0\" title=\"include (-0.198)\">include</span> <span class=\"neg-0\" title=\"staley (-0.211)\">Staley</span> <span class=\"neg-0\" title=\"continental (-0.137)\">Continental</span> <span class=\"neg-3\" title=\"inc (-2.600)\">Inc</span>\n",
       "  &lt;STA>, <span class=\"neg-3\" title=\"corning (-3.239)\">Corning</span> <span class=\"neg-3\" title=\"glass (-2.513)\">Glass</span> <span class=\"neg-3\" title=\"works (-2.750)\">Works</span> &lt;<span class=\"neg-2\" title=\"glw (-1.597)\">GLW</span>> and Genentech <span class=\"neg-3\" title=\"inc (-2.600)\">Inc</span> &lt;<span class=\"neg-0\" title=\"gene (-0.093)\">GENE</span>>.\n",
       "      The <span class=\"neg-2\" title=\"company (-1.762)\">company</span> said it <span class=\"neg-1\" title=\"has (-0.683)\">has</span> <span class=\"pos-0\" title=\"been (0.166)\">been</span> <span class=\"neg-1\" title=\"granted (-0.676)\">granted</span> <span class=\"neg-1\" title=\"options (-0.721)\">options</span> to <span class=\"pos-1\" title=\"increase (0.680)\">increase</span>\n",
       "  its <span class=\"neg-3\" title=\"equity (-2.043)\">equity</span> <span class=\"neg-3\" title=\"stake (-3.768)\">stake</span> <span class=\"pos-2\" title=\"during (1.235)\">during</span> <span class=\"pos-2\" title=\"1987 (1.183)\">1987</span>.  It said it <span class=\"neg-1\" title=\"has (-0.683)\">has</span> <span class=\"neg-2\" title=\"agreed (-1.259)\">agreed</span> to <span class=\"neg-0\" title=\"make (-0.375)\">make</span> a\n",
       "  multiyear, multimillion <span class=\"pos-1\" title=\"dollar (1.067)\">dollar</span> <span class=\"pos-0\" title=\"commitment (0.377)\">commitment</span> to Genecor <span class=\"pos-0\" title=\"research (0.195)\">research</span>\n",
       "  <span class=\"neg-0\" title=\"products (-0.367)\">products</span> <span class=\"neg-1\" title=\"related (-1.035)\">related</span> to <span class=\"pos-0\" title=\"food (0.332)\">food</span> additivies and <span class=\"neg-3\" title=\"pharmaceutical (-2.578)\">pharmaceutical</span>\n",
       "  intermediates.\n",
       "  \n",
       "\n",
       "</pre>"
      ],
      "text/plain": [
       "<IPython.core.display.HTML object>"
      ]
     },
     "execution_count": 11,
     "metadata": {},
     "output_type": "execute_result"
    }
   ],
   "source": [
    "HTML('<pre>' + markup(X[-1], m.explain(X[-1])) + '</pre>')"
   ]
  },
  {
   "cell_type": "code",
   "execution_count": 12,
   "metadata": {},
   "outputs": [
    {
     "name": "stdout",
     "output_type": "stream",
     "text": [
      "Probability of a positive class: 0.000000\n"
     ]
    }
   ],
   "source": [
    "print(\"Probability of a positive class: %0.6f\" % m.predict_proba([X[-1]])[0,1])"
   ]
  },
  {
   "cell_type": "markdown",
   "metadata": {},
   "source": [
    "# Export model"
   ]
  },
  {
   "cell_type": "markdown",
   "metadata": {},
   "source": [
    "Finally, we export the model for the webapp as a pickle file. The webapp expects that the pickled model implements the `predict_proba` and `explain` methods as shown above."
   ]
  },
  {
   "cell_type": "code",
   "execution_count": 14,
   "metadata": {},
   "outputs": [],
   "source": [
    "import pickle\n",
    "with open('../bufalometro/models/data/reuters-sample.pkl', 'wb') as f:\n",
    "    pickle.dump(m, f)"
   ]
  }
 ],
 "metadata": {
  "kernelspec": {
   "display_name": "Python 3",
   "language": "python",
   "name": "python3"
  },
  "language_info": {
   "codemirror_mode": {
    "name": "ipython",
    "version": 3
   },
   "file_extension": ".py",
   "mimetype": "text/x-python",
   "name": "python",
   "nbconvert_exporter": "python",
   "pygments_lexer": "ipython3",
   "version": "3.6.1"
  }
 },
 "nbformat": 4,
 "nbformat_minor": 2
}
